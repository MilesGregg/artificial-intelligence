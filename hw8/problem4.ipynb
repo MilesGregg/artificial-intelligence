{
 "cells": [
  {
   "cell_type": "code",
   "execution_count": 62,
   "metadata": {},
   "outputs": [
    {
     "name": "stderr",
     "output_type": "stream",
     "text": [
      "[nltk_data] Downloading package stopwords to\n",
      "[nltk_data]     /Users/kilometers/nltk_data...\n",
      "[nltk_data]   Package stopwords is already up-to-date!\n",
      "[nltk_data] Downloading package wordnet to\n",
      "[nltk_data]     /Users/kilometers/nltk_data...\n",
      "[nltk_data]   Package wordnet is already up-to-date!\n",
      "[nltk_data] Downloading package omw-1.4 to\n",
      "[nltk_data]     /Users/kilometers/nltk_data...\n",
      "[nltk_data]   Package omw-1.4 is already up-to-date!\n"
     ]
    }
   ],
   "source": [
    "import nltk\n",
    "import string\n",
    "import numpy as np\n",
    "import pandas as pd\n",
    "import tensorflow as tf\n",
    "import tensorflow_addons as tfa\n",
    "\n",
    "from tqdm import tqdm\n",
    "from nltk.corpus import stopwords\n",
    "from nltk.stem import WordNetLemmatizer\n",
    "from sklearn.metrics import classification_report\n",
    "from tensorflow.keras.preprocessing.text import Tokenizer\n",
    "from tensorflow.keras.preprocessing.sequence import pad_sequences\n",
    " \n",
    "lemmatizer = WordNetLemmatizer()\n",
    "\n",
    "nltk.download('stopwords')\n",
    "nltk.download('wordnet')\n",
    "nltk.download('omw-1.4')\n",
    "\n",
    "# preprocessing documents\n",
    "def preprocess(document):\n",
    "    # 1. Lowercase Sentence\n",
    "    document = document.lower()\n",
    "\n",
    "    # 2. Sentence Splitter\n",
    "    bag_of_document = document.split(' ')\n",
    "\n",
    "    # 3. Punctuation Remove\n",
    "    for i, word in enumerate(bag_of_document):\n",
    "            bag_of_document[i] = word.translate(str.maketrans('', '', string.punctuation))\n",
    "\n",
    "    # 4. Stop Word Remove\n",
    "    #print(stopwords.words('english'))\n",
    "    bag_of_document = [word for word in bag_of_document if word not in stopwords.words('english')]\n",
    "\n",
    "    # 5. Lemmatize\n",
    "    for i, word in enumerate(bag_of_document):\n",
    "            bag_of_document[i] = lemmatizer.lemmatize(word)\n",
    "\n",
    "    bag_of_document = ' '.join(bag_of_document)\n",
    "\n",
    "    return bag_of_document"
   ]
  },
  {
   "cell_type": "code",
   "execution_count": 63,
   "metadata": {},
   "outputs": [],
   "source": [
    "df = pd.read_csv('Reviews.csv')\n",
    "df.drop(['UserId', 'ProductId', 'Id', 'ProfileName','HelpfulnessDenominator', 'HelpfulnessNumerator', 'Time', 'Summary'], axis=1, inplace=True)"
   ]
  },
  {
   "cell_type": "code",
   "execution_count": 64,
   "metadata": {},
   "outputs": [
    {
     "name": "stderr",
     "output_type": "stream",
     "text": [
      "100%|██████████| 568454/568454 [1:53:13<00:00, 83.68it/s]  \n"
     ]
    }
   ],
   "source": [
    "for idx, row in tqdm(df.iterrows(), total=df.shape[0]):\n",
    "    df.at[idx, 'Text'] = preprocess(row['Text'])"
   ]
  },
  {
   "cell_type": "code",
   "execution_count": 65,
   "metadata": {},
   "outputs": [],
   "source": [
    "df.to_csv('Output.csv')"
   ]
  },
  {
   "cell_type": "code",
   "execution_count": 21,
   "metadata": {},
   "outputs": [
    {
     "data": {
      "text/html": [
       "<div>\n",
       "<style scoped>\n",
       "    .dataframe tbody tr th:only-of-type {\n",
       "        vertical-align: middle;\n",
       "    }\n",
       "\n",
       "    .dataframe tbody tr th {\n",
       "        vertical-align: top;\n",
       "    }\n",
       "\n",
       "    .dataframe thead th {\n",
       "        text-align: right;\n",
       "    }\n",
       "</style>\n",
       "<table border=\"1\" class=\"dataframe\">\n",
       "  <thead>\n",
       "    <tr style=\"text-align: right;\">\n",
       "      <th></th>\n",
       "      <th>Unnamed: 0</th>\n",
       "      <th>Score</th>\n",
       "      <th>Text</th>\n",
       "      <th>Rating</th>\n",
       "    </tr>\n",
       "  </thead>\n",
       "  <tbody>\n",
       "    <tr>\n",
       "      <th>0</th>\n",
       "      <td>0</td>\n",
       "      <td>5</td>\n",
       "      <td>bought several vitality canned dog food produc...</td>\n",
       "      <td>1</td>\n",
       "    </tr>\n",
       "    <tr>\n",
       "      <th>1</th>\n",
       "      <td>1</td>\n",
       "      <td>1</td>\n",
       "      <td>product arrived labeled jumbo salted peanutsth...</td>\n",
       "      <td>0</td>\n",
       "    </tr>\n",
       "    <tr>\n",
       "      <th>2</th>\n",
       "      <td>2</td>\n",
       "      <td>4</td>\n",
       "      <td>confection around century  light pillowy citru...</td>\n",
       "      <td>1</td>\n",
       "    </tr>\n",
       "    <tr>\n",
       "      <th>3</th>\n",
       "      <td>3</td>\n",
       "      <td>2</td>\n",
       "      <td>looking secret ingredient robitussin believe f...</td>\n",
       "      <td>0</td>\n",
       "    </tr>\n",
       "    <tr>\n",
       "      <th>4</th>\n",
       "      <td>4</td>\n",
       "      <td>5</td>\n",
       "      <td>great taffy great price  wide assortment yummy...</td>\n",
       "      <td>1</td>\n",
       "    </tr>\n",
       "  </tbody>\n",
       "</table>\n",
       "</div>"
      ],
      "text/plain": [
       "   Unnamed: 0  Score                                               Text  \\\n",
       "0           0      5  bought several vitality canned dog food produc...   \n",
       "1           1      1  product arrived labeled jumbo salted peanutsth...   \n",
       "2           2      4  confection around century  light pillowy citru...   \n",
       "3           3      2  looking secret ingredient robitussin believe f...   \n",
       "4           4      5  great taffy great price  wide assortment yummy...   \n",
       "\n",
       "   Rating  \n",
       "0       1  \n",
       "1       0  \n",
       "2       1  \n",
       "3       0  \n",
       "4       1  "
      ]
     },
     "execution_count": 21,
     "metadata": {},
     "output_type": "execute_result"
    }
   ],
   "source": [
    "df = pd.read_csv('Output.csv')\n",
    "\n",
    "df['Rating'] = df.Score.apply(lambda x: 1 if x in [3, 4, 5] else 0)\n",
    "df.head()"
   ]
  },
  {
   "cell_type": "code",
   "execution_count": 16,
   "metadata": {},
   "outputs": [],
   "source": [
    "dataset_split = round(len(df)*0.7)\n",
    "\n",
    "train_text = df['Text'][:dataset_split]\n",
    "train_rating = df['Rating'][:dataset_split]\n",
    "\n",
    "test_text = df['Text'][dataset_split:]\n",
    "test_rating = df['Rating'][dataset_split:]\n",
    "\n",
    "token = Tokenizer(num_words=30000)\n",
    "token.fit_on_texts(train_text)\n",
    "\n",
    "padded = pad_sequences(token.texts_to_sequences(train_text), maxlen=100, truncating='post')\n",
    "testing_padded = pad_sequences(token.texts_to_sequences(test_text), maxlen=100)"
   ]
  },
  {
   "cell_type": "code",
   "execution_count": 17,
   "metadata": {},
   "outputs": [
    {
     "name": "stdout",
     "output_type": "stream",
     "text": [
      "Epoch 1/20\n",
      "1000/1000 [==============================] - 12s 11ms/step - loss: 0.3863 - accuracy: 0.8621 - precision_5: 0.8633 - recall_5: 0.9964 - f1_score: 0.9214 - val_loss: 0.2477 - val_accuracy: 0.8967 - val_precision_5: 0.9049 - val_recall_5: 0.9830 - val_f1_score: 0.9241\n",
      "Epoch 2/20\n",
      "1000/1000 [==============================] - 11s 11ms/step - loss: 0.2218 - accuracy: 0.9104 - precision_5: 0.9225 - recall_5: 0.9772 - f1_score: 0.9214 - val_loss: 0.2121 - val_accuracy: 0.9164 - val_precision_5: 0.9300 - val_recall_5: 0.9761 - val_f1_score: 0.9241\n",
      "Epoch 3/20\n",
      "1000/1000 [==============================] - 10s 10ms/step - loss: 0.2001 - accuracy: 0.9214 - precision_5: 0.9351 - recall_5: 0.9757 - f1_score: 0.9214 - val_loss: 0.2041 - val_accuracy: 0.9212 - val_precision_5: 0.9358 - val_recall_5: 0.9752 - val_f1_score: 0.9241\n",
      "Epoch 4/20\n",
      "1000/1000 [==============================] - 10s 10ms/step - loss: 0.1894 - accuracy: 0.9263 - precision_5: 0.9398 - recall_5: 0.9763 - f1_score: 0.9214 - val_loss: 0.2000 - val_accuracy: 0.9229 - val_precision_5: 0.9377 - val_recall_5: 0.9750 - val_f1_score: 0.9241\n",
      "Epoch 5/20\n",
      "1000/1000 [==============================] - 10s 10ms/step - loss: 0.1816 - accuracy: 0.9299 - precision_5: 0.9430 - recall_5: 0.9771 - f1_score: 0.9214 - val_loss: 0.1977 - val_accuracy: 0.9249 - val_precision_5: 0.9405 - val_recall_5: 0.9742 - val_f1_score: 0.9241\n",
      "Epoch 6/20\n",
      "1000/1000 [==============================] - 10s 10ms/step - loss: 0.1752 - accuracy: 0.9328 - precision_5: 0.9455 - recall_5: 0.9777 - f1_score: 0.9214 - val_loss: 0.1966 - val_accuracy: 0.9255 - val_precision_5: 0.9426 - val_recall_5: 0.9725 - val_f1_score: 0.9241\n",
      "Epoch 7/20\n",
      "1000/1000 [==============================] - 9s 9ms/step - loss: 0.1701 - accuracy: 0.9350 - precision_5: 0.9476 - recall_5: 0.9781 - f1_score: 0.9214 - val_loss: 0.1962 - val_accuracy: 0.9260 - val_precision_5: 0.9421 - val_recall_5: 0.9737 - val_f1_score: 0.9241\n",
      "Epoch 8/20\n",
      "1000/1000 [==============================] - 9s 9ms/step - loss: 0.1654 - accuracy: 0.9371 - precision_5: 0.9494 - recall_5: 0.9786 - f1_score: 0.9214 - val_loss: 0.1974 - val_accuracy: 0.9268 - val_precision_5: 0.9467 - val_recall_5: 0.9693 - val_f1_score: 0.9241\n",
      "Epoch 9/20\n",
      "1000/1000 [==============================] - 9s 9ms/step - loss: 0.1616 - accuracy: 0.9390 - precision_5: 0.9511 - recall_5: 0.9789 - f1_score: 0.9214 - val_loss: 0.1971 - val_accuracy: 0.9263 - val_precision_5: 0.9405 - val_recall_5: 0.9759 - val_f1_score: 0.9241\n",
      "Epoch 10/20\n",
      "1000/1000 [==============================] - 9s 9ms/step - loss: 0.1580 - accuracy: 0.9403 - precision_5: 0.9523 - recall_5: 0.9791 - f1_score: 0.9214 - val_loss: 0.1973 - val_accuracy: 0.9271 - val_precision_5: 0.9440 - val_recall_5: 0.9728 - val_f1_score: 0.9241\n",
      "Epoch 11/20\n",
      "1000/1000 [==============================] - 9s 9ms/step - loss: 0.1547 - accuracy: 0.9419 - precision_5: 0.9535 - recall_5: 0.9797 - f1_score: 0.9214 - val_loss: 0.1988 - val_accuracy: 0.9271 - val_precision_5: 0.9461 - val_recall_5: 0.9704 - val_f1_score: 0.9241\n",
      "Epoch 12/20\n",
      "1000/1000 [==============================] - 9s 9ms/step - loss: 0.1518 - accuracy: 0.9431 - precision_5: 0.9548 - recall_5: 0.9798 - f1_score: 0.9214 - val_loss: 0.2019 - val_accuracy: 0.9254 - val_precision_5: 0.9377 - val_recall_5: 0.9782 - val_f1_score: 0.9241\n",
      "Epoch 13/20\n",
      "1000/1000 [==============================] - 9s 9ms/step - loss: 0.1493 - accuracy: 0.9442 - precision_5: 0.9558 - recall_5: 0.9800 - f1_score: 0.9214 - val_loss: 0.2011 - val_accuracy: 0.9273 - val_precision_5: 0.9425 - val_recall_5: 0.9748 - val_f1_score: 0.9241\n",
      "Epoch 14/20\n",
      "1000/1000 [==============================] - 9s 9ms/step - loss: 0.1468 - accuracy: 0.9452 - precision_5: 0.9566 - recall_5: 0.9804 - f1_score: 0.9214 - val_loss: 0.2029 - val_accuracy: 0.9272 - val_precision_5: 0.9467 - val_recall_5: 0.9698 - val_f1_score: 0.9241\n",
      "Epoch 15/20\n",
      "1000/1000 [==============================] - 9s 9ms/step - loss: 0.1447 - accuracy: 0.9462 - precision_5: 0.9575 - recall_5: 0.9806 - f1_score: 0.9214 - val_loss: 0.2042 - val_accuracy: 0.9269 - val_precision_5: 0.9424 - val_recall_5: 0.9745 - val_f1_score: 0.9241\n",
      "Epoch 16/20\n",
      "1000/1000 [==============================] - 9s 9ms/step - loss: 0.1428 - accuracy: 0.9469 - precision_5: 0.9581 - recall_5: 0.9808 - f1_score: 0.9214 - val_loss: 0.2075 - val_accuracy: 0.9260 - val_precision_5: 0.9398 - val_recall_5: 0.9764 - val_f1_score: 0.9241\n",
      "Epoch 17/20\n",
      "1000/1000 [==============================] - 9s 9ms/step - loss: 0.1408 - accuracy: 0.9478 - precision_5: 0.9588 - recall_5: 0.9811 - f1_score: 0.9214 - val_loss: 0.2066 - val_accuracy: 0.9268 - val_precision_5: 0.9449 - val_recall_5: 0.9714 - val_f1_score: 0.9241\n",
      "Epoch 18/20\n",
      "1000/1000 [==============================] - 9s 9ms/step - loss: 0.1392 - accuracy: 0.9485 - precision_5: 0.9596 - recall_5: 0.9810 - f1_score: 0.9214 - val_loss: 0.2093 - val_accuracy: 0.9265 - val_precision_5: 0.9445 - val_recall_5: 0.9715 - val_f1_score: 0.9241\n",
      "Epoch 19/20\n",
      "1000/1000 [==============================] - 9s 9ms/step - loss: 0.1375 - accuracy: 0.9490 - precision_5: 0.9599 - recall_5: 0.9813 - f1_score: 0.9214 - val_loss: 0.2113 - val_accuracy: 0.9262 - val_precision_5: 0.9413 - val_recall_5: 0.9749 - val_f1_score: 0.9241\n",
      "Epoch 20/20\n",
      "1000/1000 [==============================] - 9s 9ms/step - loss: 0.1361 - accuracy: 0.9495 - precision_5: 0.9604 - recall_5: 0.9813 - f1_score: 0.9214 - val_loss: 0.2122 - val_accuracy: 0.9263 - val_precision_5: 0.9452 - val_recall_5: 0.9705 - val_f1_score: 0.9241\n",
      "INFO:tensorflow:Assets written to: rnn model/assets\n"
     ]
    },
    {
     "name": "stderr",
     "output_type": "stream",
     "text": [
      "INFO:tensorflow:Assets written to: rnn model/assets\n"
     ]
    }
   ],
   "source": [
    "# RNN Model\n",
    "rnn_model = tf.keras.Sequential([tf.keras.layers.Embedding(30000, 15, input_length=100), tf.keras.layers.GlobalAveragePooling1D(), tf.keras.layers.Dense(7, activation='relu'), tf.keras.layers.Dense(1, activation='sigmoid')])\n",
    "rnn_model.compile(loss='binary_crossentropy', optimizer='adam', metrics=['accuracy', tf.keras.metrics.Precision(), tf.keras.metrics.Recall(), tfa.metrics.F1Score(num_classes=1)])\n",
    "rnn_model.summary()\n",
    "rnn_model.fit(padded, train_rating, epochs=20, steps_per_epoch=1000, validation_data=(testing_padded, test_rating))"
   ]
  },
  {
   "cell_type": "code",
   "execution_count": 25,
   "metadata": {},
   "outputs": [
    {
     "name": "stdout",
     "output_type": "stream",
     "text": [
      "              precision    recall  f1-score   support\n",
      "\n",
      "           0       0.79      0.66      0.72     24068\n",
      "           1       0.95      0.97      0.96    146468\n",
      "\n",
      "    accuracy                           0.93    170536\n",
      "   macro avg       0.87      0.81      0.84    170536\n",
      "weighted avg       0.92      0.93      0.92    170536\n",
      "\n"
     ]
    }
   ],
   "source": [
    "print(classification_report(test_rating, (rnn_model.predict(testing_padded)>=0.5).astype(np.uint8)))"
   ]
  },
  {
   "cell_type": "code",
   "execution_count": 19,
   "metadata": {},
   "outputs": [
    {
     "name": "stdout",
     "output_type": "stream",
     "text": [
      "Epoch 1/20\n",
      "1000/1000 [==============================] - 212s 208ms/step - loss: 0.2412 - accuracy: 0.9063 - precision_6: 0.9233 - recall_6: 0.9710 - f1_score: 0.9214 - val_loss: 0.1988 - val_accuracy: 0.9215 - val_precision_6: 0.9542 - val_recall_6: 0.9544 - val_f1_score: 0.9241\n",
      "Epoch 2/20\n",
      "1000/1000 [==============================] - 212s 212ms/step - loss: 0.1723 - accuracy: 0.9322 - precision_6: 0.9515 - recall_6: 0.9701 - f1_score: 0.9214 - val_loss: 0.1817 - val_accuracy: 0.9281 - val_precision_6: 0.9499 - val_recall_6: 0.9673 - val_f1_score: 0.9241\n",
      "Epoch 3/20\n",
      "1000/1000 [==============================] - 204s 204ms/step - loss: 0.1513 - accuracy: 0.9411 - precision_6: 0.9577 - recall_6: 0.9741 - f1_score: 0.9214 - val_loss: 0.1840 - val_accuracy: 0.9299 - val_precision_6: 0.9550 - val_recall_6: 0.9638 - val_f1_score: 0.9241\n",
      "Epoch 4/20\n",
      "1000/1000 [==============================] - 190s 190ms/step - loss: 0.1330 - accuracy: 0.9486 - precision_6: 0.9623 - recall_6: 0.9781 - f1_score: 0.9214 - val_loss: 0.1844 - val_accuracy: 0.9312 - val_precision_6: 0.9464 - val_recall_6: 0.9751 - val_f1_score: 0.9241\n",
      "Epoch 5/20\n",
      "1000/1000 [==============================] - 188s 188ms/step - loss: 0.1177 - accuracy: 0.9549 - precision_6: 0.9672 - recall_6: 0.9805 - f1_score: 0.9214 - val_loss: 0.1917 - val_accuracy: 0.9303 - val_precision_6: 0.9548 - val_recall_6: 0.9645 - val_f1_score: 0.9241\n",
      "Epoch 6/20\n",
      "1000/1000 [==============================] - 187s 187ms/step - loss: 0.1045 - accuracy: 0.9606 - precision_6: 0.9713 - recall_6: 0.9829 - f1_score: 0.9214 - val_loss: 0.1993 - val_accuracy: 0.9315 - val_precision_6: 0.9549 - val_recall_6: 0.9658 - val_f1_score: 0.9241\n",
      "Epoch 7/20\n",
      "1000/1000 [==============================] - 192s 192ms/step - loss: 0.0921 - accuracy: 0.9659 - precision_6: 0.9752 - recall_6: 0.9852 - f1_score: 0.9214 - val_loss: 0.2140 - val_accuracy: 0.9287 - val_precision_6: 0.9577 - val_recall_6: 0.9593 - val_f1_score: 0.9241\n",
      "Epoch 8/20\n",
      "1000/1000 [==============================] - 188s 188ms/step - loss: 0.0823 - accuracy: 0.9701 - precision_6: 0.9781 - recall_6: 0.9871 - f1_score: 0.9214 - val_loss: 0.2280 - val_accuracy: 0.9306 - val_precision_6: 0.9560 - val_recall_6: 0.9635 - val_f1_score: 0.9241\n",
      "Epoch 9/20\n",
      "1000/1000 [==============================] - 187s 187ms/step - loss: 0.0727 - accuracy: 0.9740 - precision_6: 0.9810 - recall_6: 0.9887 - f1_score: 0.9214 - val_loss: 0.2397 - val_accuracy: 0.9317 - val_precision_6: 0.9530 - val_recall_6: 0.9682 - val_f1_score: 0.9241\n",
      "Epoch 10/20\n",
      "1000/1000 [==============================] - 186s 186ms/step - loss: 0.0652 - accuracy: 0.9769 - precision_6: 0.9832 - recall_6: 0.9899 - f1_score: 0.9214 - val_loss: 0.2554 - val_accuracy: 0.9320 - val_precision_6: 0.9533 - val_recall_6: 0.9682 - val_f1_score: 0.9241\n",
      "Epoch 11/20\n",
      "1000/1000 [==============================] - 188s 188ms/step - loss: 0.0580 - accuracy: 0.9799 - precision_6: 0.9854 - recall_6: 0.9912 - f1_score: 0.9214 - val_loss: 0.2669 - val_accuracy: 0.9314 - val_precision_6: 0.9538 - val_recall_6: 0.9669 - val_f1_score: 0.9241\n",
      "Epoch 12/20\n",
      "1000/1000 [==============================] - 187s 187ms/step - loss: 0.0519 - accuracy: 0.9822 - precision_6: 0.9870 - recall_6: 0.9922 - f1_score: 0.9214 - val_loss: 0.2774 - val_accuracy: 0.9293 - val_precision_6: 0.9573 - val_recall_6: 0.9606 - val_f1_score: 0.9241\n",
      "Epoch 13/20\n",
      "1000/1000 [==============================] - 189s 189ms/step - loss: 0.0463 - accuracy: 0.9846 - precision_6: 0.9887 - recall_6: 0.9933 - f1_score: 0.9214 - val_loss: 0.3003 - val_accuracy: 0.9310 - val_precision_6: 0.9540 - val_recall_6: 0.9662 - val_f1_score: 0.9241\n",
      "Epoch 14/20\n",
      "1000/1000 [==============================] - 187s 187ms/step - loss: 0.0420 - accuracy: 0.9861 - precision_6: 0.9900 - recall_6: 0.9938 - f1_score: 0.9214 - val_loss: 0.3055 - val_accuracy: 0.9308 - val_precision_6: 0.9550 - val_recall_6: 0.9649 - val_f1_score: 0.9241\n",
      "Epoch 15/20\n",
      "1000/1000 [==============================] - 186s 186ms/step - loss: 0.0373 - accuracy: 0.9878 - precision_6: 0.9912 - recall_6: 0.9946 - f1_score: 0.9214 - val_loss: 0.3277 - val_accuracy: 0.9285 - val_precision_6: 0.9551 - val_recall_6: 0.9620 - val_f1_score: 0.9241\n",
      "Epoch 16/20\n",
      "1000/1000 [==============================] - 188s 188ms/step - loss: 0.0337 - accuracy: 0.9894 - precision_6: 0.9923 - recall_6: 0.9953 - f1_score: 0.9214 - val_loss: 0.3574 - val_accuracy: 0.9286 - val_precision_6: 0.9564 - val_recall_6: 0.9607 - val_f1_score: 0.9241\n",
      "Epoch 17/20\n",
      "1000/1000 [==============================] - 193s 193ms/step - loss: 0.0304 - accuracy: 0.9906 - precision_6: 0.9930 - recall_6: 0.9960 - f1_score: 0.9214 - val_loss: 0.3468 - val_accuracy: 0.9304 - val_precision_6: 0.9538 - val_recall_6: 0.9658 - val_f1_score: 0.9241\n",
      "Epoch 18/20\n",
      "1000/1000 [==============================] - 187s 187ms/step - loss: 0.0278 - accuracy: 0.9915 - precision_6: 0.9938 - recall_6: 0.9962 - f1_score: 0.9214 - val_loss: 0.3730 - val_accuracy: 0.9292 - val_precision_6: 0.9556 - val_recall_6: 0.9622 - val_f1_score: 0.9241\n",
      "Epoch 19/20\n",
      "1000/1000 [==============================] - 188s 188ms/step - loss: 0.0249 - accuracy: 0.9924 - precision_6: 0.9944 - recall_6: 0.9967 - f1_score: 0.9215 - val_loss: 0.3981 - val_accuracy: 0.9272 - val_precision_6: 0.9587 - val_recall_6: 0.9565 - val_f1_score: 0.9241\n",
      "Epoch 20/20\n",
      "1000/1000 [==============================] - 188s 188ms/step - loss: 0.0239 - accuracy: 0.9928 - precision_6: 0.9947 - recall_6: 0.9968 - f1_score: 0.9215 - val_loss: 0.3868 - val_accuracy: 0.9274 - val_precision_6: 0.9559 - val_recall_6: 0.9598 - val_f1_score: 0.9241\n"
     ]
    },
    {
     "name": "stderr",
     "output_type": "stream",
     "text": [
      "WARNING:absl:Found untraced functions such as lstm_cell_10_layer_call_fn, lstm_cell_10_layer_call_and_return_conditional_losses, lstm_cell_11_layer_call_fn, lstm_cell_11_layer_call_and_return_conditional_losses while saving (showing 4 of 4). These functions will not be directly callable after loading.\n"
     ]
    },
    {
     "name": "stdout",
     "output_type": "stream",
     "text": [
      "INFO:tensorflow:Assets written to: lstm model/assets\n"
     ]
    },
    {
     "name": "stderr",
     "output_type": "stream",
     "text": [
      "INFO:tensorflow:Assets written to: lstm model/assets\n",
      "WARNING:absl:<keras.layers.recurrent.LSTMCell object at 0x7fb5ca9aa250> has the same name 'LSTMCell' as a built-in Keras object. Consider renaming <class 'keras.layers.recurrent.LSTMCell'> to avoid naming conflicts when loading with `tf.keras.models.load_model`. If renaming is not possible, pass the object in the `custom_objects` parameter of the load function.\n",
      "WARNING:absl:<keras.layers.recurrent.LSTMCell object at 0x7fb5a1ba7a60> has the same name 'LSTMCell' as a built-in Keras object. Consider renaming <class 'keras.layers.recurrent.LSTMCell'> to avoid naming conflicts when loading with `tf.keras.models.load_model`. If renaming is not possible, pass the object in the `custom_objects` parameter of the load function.\n"
     ]
    }
   ],
   "source": [
    "# LSTM Model\n",
    "lstm_model = tf.keras.Sequential([tf.keras.layers.Embedding(30000, 15, input_length=100), tf.keras.layers.Bidirectional(tf.keras.layers.LSTM(30)), tf.keras.layers.Dense(7, activation='relu'), tf.keras.layers.Dense(1, activation='sigmoid')])\n",
    "lstm_model.compile(loss='binary_crossentropy', optimizer='adam', metrics=['accuracy', tf.keras.metrics.Precision(), tf.keras.metrics.Recall(), tfa.metrics.F1Score(num_classes=1)])\n",
    "lstm_model.summary()\n",
    "lstm_model.fit(padded, train_rating, epochs=20, steps_per_epoch=1000, validation_data=(testing_padded, test_rating))"
   ]
  },
  {
   "cell_type": "code",
   "execution_count": 24,
   "metadata": {},
   "outputs": [
    {
     "name": "stdout",
     "output_type": "stream",
     "text": [
      "              precision    recall  f1-score   support\n",
      "\n",
      "           0       0.75      0.73      0.74     24068\n",
      "           1       0.96      0.96      0.96    146468\n",
      "\n",
      "    accuracy                           0.93    170536\n",
      "   macro avg       0.85      0.85      0.85    170536\n",
      "weighted avg       0.93      0.93      0.93    170536\n",
      "\n"
     ]
    }
   ],
   "source": [
    "print(classification_report(test_rating, (lstm_model.predict(testing_padded)>=0.5).astype(np.uint8)))"
   ]
  }
 ],
 "metadata": {
  "interpreter": {
   "hash": "949777d72b0d2535278d3dc13498b2535136f6dfe0678499012e853ee9abcab1"
  },
  "kernelspec": {
   "display_name": "Python 3.8.6 64-bit",
   "language": "python",
   "name": "python3"
  },
  "language_info": {
   "codemirror_mode": {
    "name": "ipython",
    "version": 3
   },
   "file_extension": ".py",
   "mimetype": "text/x-python",
   "name": "python",
   "nbconvert_exporter": "python",
   "pygments_lexer": "ipython3",
   "version": "3.8.6"
  },
  "orig_nbformat": 4
 },
 "nbformat": 4,
 "nbformat_minor": 2
}
