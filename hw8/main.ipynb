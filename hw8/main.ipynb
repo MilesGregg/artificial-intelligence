{
 "cells": [
  {
   "cell_type": "code",
   "execution_count": 3,
   "metadata": {},
   "outputs": [
    {
     "name": "stdout",
     "output_type": "stream",
     "text": [
      "['Mr', 'Jeremy', 'put', 'on', 'a', 'macintosh,', 'and', 'a', 'pair', 'of', 'shiny', 'shoes;', 'he', 'took', 'his', 'fishing', 'rod', 'and', 'basket,', 'and', 'set', 'off', 'with', 'enormous', 'hops', 'to', 'the', 'place', 'where', 'he', 'kept', 'his', 'boat.', 'The', 'boat', 'was', 'round', 'and', 'green,', 'and', 'very', 'like', 'the', 'other', 'lily-leaves.', 'It', 'was', 'tied', 'to', 'a', 'water-plant', 'in', 'the', 'middle', 'of', 'the', 'pond.']\n",
      "['Peter', 'never', 'stopped', 'running', 'or', 'looked', 'behind', 'him', 'till', 'he', 'got', 'home', 'to', 'the', 'big', 'fir-tree.', 'He', 'was', 'so', 'tired', 'that', 'he', 'flopped', 'down', 'upon', 'the', 'nice', 'soft', 'sand', 'on', 'the', 'floor', 'of', 'the', 'rabbit-hole', 'and', 'shut', 'his', 'eyes.', 'His', 'mother', 'was', 'busy', 'cooking;', 'she', 'wondered', 'what', 'he', 'had', 'done', 'with', 'his', 'clothes.', 'It', 'was', 'the', 'second', 'little', 'jacket', 'and', 'pair', 'of', 'shoes', 'that', 'Peter', 'had', 'lost', 'in', 'a', 'week!']\n"
     ]
    }
   ],
   "source": [
    "from sklearn.feature_extraction.text import TfidfVectorizer\n",
    "\n",
    "doc_1 = 'Mr Jeremy put on a macintosh, and a pair of shiny shoes; he took his fishing rod and basket, and set off with enormous hops to the place where he kept his boat. The boat was round and green, and very like the other lily-leaves. It was tied to a water-plant in the middle of the pond.'\n",
    "doc_2 = 'Peter never stopped running or looked behind him till he got home to the big fir-tree. He was so tired that he flopped down upon the nice soft sand on the floor of the rabbit-hole and shut his eyes. His mother was busy cooking; she wondered what he had done with his clothes. It was the second little jacket and pair of shoes that Peter had lost in a week!'\n",
    "\n",
    "set_of_doc_1 = doc_1.split(' ')\n",
    "set_of_doc_2 = doc_2.split(' ')\n",
    "\n",
    "print(set_of_doc_1)\n",
    "print(set_of_doc_2)"
   ]
  },
  {
   "cell_type": "code",
   "execution_count": 4,
   "metadata": {},
   "outputs": [
    {
     "name": "stdout",
     "output_type": "stream",
     "text": [
      "{'eyes.', 'macintosh,', 'fishing', 'wondered', 'basket,', 'hops', 'what', 'shiny', 'pond.', 'The', 'and', 'rabbit-hole', 'home', 'looked', 'enormous', 'second', 'like', 'got', 'mother', 'upon', 'water-plant', 'on', 'she', 'kept', 'green,', 'Peter', 'running', 'pair', 'the', 'week!', 'lily-leaves.', 'sand', 'where', 'It', 'that', 'tired', 'till', 'boat.', 'flopped', 'of', 'put', 'shoes;', 'he', 'to', 'shoes', 'his', 'busy', 'other', 'jacket', 'middle', 'behind', 'was', 'rod', 'down', 'soft', 'nice', 'or', 'shut', 'His', 'him', 'so', 'Jeremy', 'floor', 'in', 'stopped', 'round', 'took', 'never', 'very', 'place', 'had', 'off', 'fir-tree.', 'little', 'lost', 'done', 'clothes.', 'set', 'boat', 'with', 'tied', 'big', 'cooking;', 'a', 'He', 'Mr'}\n"
     ]
    }
   ],
   "source": [
    "uniqueWords = set(set_of_doc_1).union(set(set_of_doc_2))\n",
    "\n",
    "print(uniqueWords)"
   ]
  },
  {
   "cell_type": "code",
   "execution_count": null,
   "metadata": {},
   "outputs": [],
   "source": []
  }
 ],
 "metadata": {
  "interpreter": {
   "hash": "6f49874e70d65f3ad41d30fdc4564a87c0f9ee1662c3c57c6ddd6b2e48d08ee9"
  },
  "kernelspec": {
   "display_name": "Python 3.8.7 64-bit",
   "language": "python",
   "name": "python3"
  },
  "language_info": {
   "codemirror_mode": {
    "name": "ipython",
    "version": 3
   },
   "file_extension": ".py",
   "mimetype": "text/x-python",
   "name": "python",
   "nbconvert_exporter": "python",
   "pygments_lexer": "ipython3",
   "version": "3.8.7"
  },
  "orig_nbformat": 4
 },
 "nbformat": 4,
 "nbformat_minor": 2
}
