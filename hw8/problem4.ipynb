{
 "cells": [
  {
   "cell_type": "code",
   "execution_count": 62,
   "metadata": {},
   "outputs": [
    {
     "name": "stderr",
     "output_type": "stream",
     "text": [
      "[nltk_data] Downloading package stopwords to\n",
      "[nltk_data]     /Users/kilometers/nltk_data...\n",
      "[nltk_data]   Package stopwords is already up-to-date!\n",
      "[nltk_data] Downloading package wordnet to\n",
      "[nltk_data]     /Users/kilometers/nltk_data...\n",
      "[nltk_data]   Package wordnet is already up-to-date!\n",
      "[nltk_data] Downloading package omw-1.4 to\n",
      "[nltk_data]     /Users/kilometers/nltk_data...\n",
      "[nltk_data]   Package omw-1.4 is already up-to-date!\n"
     ]
    }
   ],
   "source": [
    "import nltk\n",
    "import string\n",
    "\n",
    "from nltk.corpus import stopwords\n",
    "from nltk.stem import WordNetLemmatizer\n",
    " \n",
    "lemmatizer = WordNetLemmatizer()\n",
    "\n",
    "nltk.download('stopwords')\n",
    "nltk.download('wordnet')\n",
    "nltk.download('omw-1.4')\n",
    "\n",
    "# preprocessing documents\n",
    "def preprocess(document):\n",
    "    # 1. Lowercase Sentence\n",
    "    document = document.lower()\n",
    "\n",
    "    # 2. Sentence Splitter\n",
    "    bag_of_document = document.split(' ')\n",
    "\n",
    "    # 3. Punctuation Remove\n",
    "    for i, word in enumerate(bag_of_document):\n",
    "            bag_of_document[i] = word.translate(str.maketrans('', '', string.punctuation))\n",
    "\n",
    "    # 4. Stop Word Remove\n",
    "    #print(stopwords.words('english'))\n",
    "    bag_of_document = [word for word in bag_of_document if word not in stopwords.words('english')]\n",
    "\n",
    "    # 5. Lemmatize\n",
    "    for i, word in enumerate(bag_of_document):\n",
    "            bag_of_document[i] = lemmatizer.lemmatize(word)\n",
    "\n",
    "    bag_of_document = ' '.join(bag_of_document)\n",
    "\n",
    "    return bag_of_document"
   ]
  },
  {
   "cell_type": "code",
   "execution_count": 63,
   "metadata": {},
   "outputs": [],
   "source": [
    "import pandas as pd\n",
    "from tqdm import tqdm\n",
    "\n",
    "df = pd.read_csv('Reviews.csv')\n",
    "df.drop(['UserId', 'ProductId', 'Id', 'ProfileName','HelpfulnessDenominator', 'HelpfulnessNumerator', 'Time', 'Summary'], axis=1, inplace=True)"
   ]
  },
  {
   "cell_type": "code",
   "execution_count": 64,
   "metadata": {},
   "outputs": [
    {
     "name": "stderr",
     "output_type": "stream",
     "text": [
      "100%|██████████| 568454/568454 [1:53:13<00:00, 83.68it/s]  \n"
     ]
    }
   ],
   "source": [
    "for idx, row in tqdm(df.iterrows(), total=df.shape[0]):\n",
    "    df.at[idx, 'Text'] = preprocess(row['Text'])"
   ]
  },
  {
   "cell_type": "code",
   "execution_count": 65,
   "metadata": {},
   "outputs": [],
   "source": [
    "df.to_csv('Output.csv')"
   ]
  },
  {
   "cell_type": "code",
   "execution_count": 69,
   "metadata": {},
   "outputs": [
    {
     "data": {
      "text/html": [
       "<div>\n",
       "<style scoped>\n",
       "    .dataframe tbody tr th:only-of-type {\n",
       "        vertical-align: middle;\n",
       "    }\n",
       "\n",
       "    .dataframe tbody tr th {\n",
       "        vertical-align: top;\n",
       "    }\n",
       "\n",
       "    .dataframe thead th {\n",
       "        text-align: right;\n",
       "    }\n",
       "</style>\n",
       "<table border=\"1\" class=\"dataframe\">\n",
       "  <thead>\n",
       "    <tr style=\"text-align: right;\">\n",
       "      <th></th>\n",
       "      <th>Score</th>\n",
       "      <th>Text</th>\n",
       "      <th>Rating</th>\n",
       "    </tr>\n",
       "  </thead>\n",
       "  <tbody>\n",
       "    <tr>\n",
       "      <th>0</th>\n",
       "      <td>5</td>\n",
       "      <td>bought several vitality canned dog food produc...</td>\n",
       "      <td>1</td>\n",
       "    </tr>\n",
       "    <tr>\n",
       "      <th>1</th>\n",
       "      <td>1</td>\n",
       "      <td>product arrived labeled jumbo salted peanutsth...</td>\n",
       "      <td>0</td>\n",
       "    </tr>\n",
       "    <tr>\n",
       "      <th>2</th>\n",
       "      <td>4</td>\n",
       "      <td>confection around century  light pillowy citru...</td>\n",
       "      <td>1</td>\n",
       "    </tr>\n",
       "    <tr>\n",
       "      <th>3</th>\n",
       "      <td>2</td>\n",
       "      <td>looking secret ingredient robitussin believe f...</td>\n",
       "      <td>0</td>\n",
       "    </tr>\n",
       "    <tr>\n",
       "      <th>4</th>\n",
       "      <td>5</td>\n",
       "      <td>great taffy great price  wide assortment yummy...</td>\n",
       "      <td>1</td>\n",
       "    </tr>\n",
       "  </tbody>\n",
       "</table>\n",
       "</div>"
      ],
      "text/plain": [
       "   Score                                               Text  Rating\n",
       "0      5  bought several vitality canned dog food produc...       1\n",
       "1      1  product arrived labeled jumbo salted peanutsth...       0\n",
       "2      4  confection around century  light pillowy citru...       1\n",
       "3      2  looking secret ingredient robitussin believe f...       0\n",
       "4      5  great taffy great price  wide assortment yummy...       1"
      ]
     },
     "execution_count": 69,
     "metadata": {},
     "output_type": "execute_result"
    }
   ],
   "source": [
    "df = pd.read_csv('Output.csv')\n",
    "\n",
    "df['Rating'] = df.Score.apply(lambda x: 1 if x in [3, 4, 5] else 0)\n",
    "df.drop(['Unnamed: 0'], axis=1, inplace=True)\n",
    "df.head()"
   ]
  },
  {
   "cell_type": "code",
   "execution_count": 75,
   "metadata": {},
   "outputs": [],
   "source": [
    "from tensorflow.keras.preprocessing.text import Tokenizer\n",
    "from tensorflow.keras.preprocessing.sequence import pad_sequences\n",
    "\n",
    "vocab_size = 40000\n",
    "embedding_dim = 16\n",
    "max_length = 120\n",
    "\n",
    "split = round(len(df)*0.7)\n",
    "\n",
    "train_text = df['Text'][:split]\n",
    "train_rating = df['Rating'][:split]\n",
    "\n",
    "test_text = df['Text'][split:]\n",
    "test_rating = df['Rating'][split:]\n",
    "\n",
    "tokenizer = Tokenizer(num_words=vocab_size)\n",
    "tokenizer.fit_on_texts(train_text)\n",
    "word_index = tokenizer.word_index\n",
    "\n",
    "sequences = tokenizer.texts_to_sequences(train_text)\n",
    "padded = pad_sequences(sequences, maxlen=max_length, truncating='post')\n",
    "\n",
    "testing_sentences = tokenizer.texts_to_sequences(test_text)\n",
    "testing_padded = pad_sequences(testing_sentences, maxlen=max_length)\n"
   ]
  },
  {
   "cell_type": "code",
   "execution_count": 77,
   "metadata": {},
   "outputs": [
    {
     "name": "stdout",
     "output_type": "stream",
     "text": [
      "Epoch 1/20\n",
      "1000/1000 [==============================] - 9s 9ms/step - loss: 0.3804 - accuracy: 0.8617 - val_loss: 0.2464 - val_accuracy: 0.8993\n",
      "Epoch 2/20\n",
      "1000/1000 [==============================] - 9s 9ms/step - loss: 0.2193 - accuracy: 0.9120 - val_loss: 0.2105 - val_accuracy: 0.9159\n",
      "Epoch 3/20\n",
      "1000/1000 [==============================] - 9s 9ms/step - loss: 0.1974 - accuracy: 0.9229 - val_loss: 0.2019 - val_accuracy: 0.9220\n",
      "Epoch 4/20\n",
      "1000/1000 [==============================] - 10s 10ms/step - loss: 0.1866 - accuracy: 0.9279 - val_loss: 0.1981 - val_accuracy: 0.9239\n",
      "Epoch 5/20\n",
      "1000/1000 [==============================] - 9s 9ms/step - loss: 0.1789 - accuracy: 0.9310 - val_loss: 0.1961 - val_accuracy: 0.9247\n",
      "Epoch 6/20\n",
      "1000/1000 [==============================] - 8s 8ms/step - loss: 0.1726 - accuracy: 0.9337 - val_loss: 0.1946 - val_accuracy: 0.9259\n",
      "Epoch 7/20\n",
      "1000/1000 [==============================] - 8s 8ms/step - loss: 0.1671 - accuracy: 0.9364 - val_loss: 0.1943 - val_accuracy: 0.9264\n",
      "Epoch 8/20\n",
      "1000/1000 [==============================] - 8s 8ms/step - loss: 0.1623 - accuracy: 0.9384 - val_loss: 0.1954 - val_accuracy: 0.9273\n",
      "Epoch 9/20\n",
      "1000/1000 [==============================] - 8s 8ms/step - loss: 0.1583 - accuracy: 0.9402 - val_loss: 0.1957 - val_accuracy: 0.9264\n",
      "Epoch 10/20\n",
      "1000/1000 [==============================] - 8s 8ms/step - loss: 0.1543 - accuracy: 0.9419 - val_loss: 0.1966 - val_accuracy: 0.9265\n",
      "Epoch 11/20\n",
      "1000/1000 [==============================] - 8s 8ms/step - loss: 0.1509 - accuracy: 0.9431 - val_loss: 0.1973 - val_accuracy: 0.9278\n",
      "Epoch 12/20\n",
      "1000/1000 [==============================] - 8s 8ms/step - loss: 0.1474 - accuracy: 0.9446 - val_loss: 0.1980 - val_accuracy: 0.9272\n",
      "Epoch 13/20\n",
      "1000/1000 [==============================] - 8s 8ms/step - loss: 0.1445 - accuracy: 0.9456 - val_loss: 0.1987 - val_accuracy: 0.9271\n",
      "Epoch 14/20\n",
      "1000/1000 [==============================] - 8s 8ms/step - loss: 0.1416 - accuracy: 0.9469 - val_loss: 0.2002 - val_accuracy: 0.9271\n",
      "Epoch 15/20\n",
      "1000/1000 [==============================] - 8s 8ms/step - loss: 0.1387 - accuracy: 0.9477 - val_loss: 0.2030 - val_accuracy: 0.9275\n",
      "Epoch 16/20\n",
      "1000/1000 [==============================] - 8s 8ms/step - loss: 0.1360 - accuracy: 0.9487 - val_loss: 0.2046 - val_accuracy: 0.9272\n",
      "Epoch 17/20\n",
      "1000/1000 [==============================] - 8s 8ms/step - loss: 0.1335 - accuracy: 0.9492 - val_loss: 0.2060 - val_accuracy: 0.9270\n",
      "Epoch 18/20\n",
      "1000/1000 [==============================] - 8s 8ms/step - loss: 0.1309 - accuracy: 0.9500 - val_loss: 0.2078 - val_accuracy: 0.9268\n",
      "Epoch 19/20\n",
      "1000/1000 [==============================] - 9s 9ms/step - loss: 0.1284 - accuracy: 0.9511 - val_loss: 0.2135 - val_accuracy: 0.9256\n",
      "Epoch 20/20\n",
      "1000/1000 [==============================] - 8s 8ms/step - loss: 0.1261 - accuracy: 0.9516 - val_loss: 0.2143 - val_accuracy: 0.9265\n"
     ]
    }
   ],
   "source": [
    "import tensorflow as tf\n",
    "\n",
    "rnn_model = tf.keras.Sequential([\n",
    "    tf.keras.layers.Embedding(vocab_size, embedding_dim, input_length=max_length),\n",
    "    tf.keras.layers.GlobalAveragePooling1D(),\n",
    "    tf.keras.layers.Dense(6, activation='relu'),\n",
    "    tf.keras.layers.Dense(1, activation='sigmoid')\n",
    "])\n",
    "\n",
    "rnn_model.compile(loss='binary_crossentropy', optimizer='adam', metrics=['accuracy'])\n",
    "\n",
    "num_epochs = 20\n",
    "history = rnn_model.fit(padded, train_rating, epochs=num_epochs, steps_per_epoch=1000,validation_data=(testing_padded, test_rating))"
   ]
  },
  {
   "cell_type": "code",
   "execution_count": 79,
   "metadata": {},
   "outputs": [
    {
     "name": "stdout",
     "output_type": "stream",
     "text": [
      "Epoch 1/20\n",
      "1000/1000 [==============================] - 211s 207ms/step - loss: 0.2539 - accuracy: 0.9035 - val_loss: 0.1913 - val_accuracy: 0.9240\n",
      "Epoch 2/20\n",
      "1000/1000 [==============================] - 211s 210ms/step - loss: 0.1734 - accuracy: 0.9318 - val_loss: 0.1824 - val_accuracy: 0.9281\n",
      "Epoch 3/20\n",
      "1000/1000 [==============================] - 204s 204ms/step - loss: 0.1537 - accuracy: 0.9399 - val_loss: 0.1829 - val_accuracy: 0.9302\n",
      "Epoch 4/20\n",
      "1000/1000 [==============================] - 206s 206ms/step - loss: 0.1366 - accuracy: 0.9472 - val_loss: 0.1851 - val_accuracy: 0.9311\n",
      "Epoch 5/20\n",
      "1000/1000 [==============================] - ETA: 0s - loss: 0.1220 - accuracy: 0.9524"
     ]
    }
   ],
   "source": [
    "lstm_model = tf.keras.Sequential([\n",
    "    tf.keras.layers.Embedding(vocab_size, embedding_dim, input_length=max_length),\n",
    "    tf.keras.layers.Bidirectional(tf.keras.layers.LSTM(32)),\n",
    "    tf.keras.layers.Dense(6, activation='relu'),\n",
    "    tf.keras.layers.Dense(1, activation='sigmoid')\n",
    "])\n",
    "\n",
    "lstm_model.compile(loss='binary_crossentropy', optimizer='adam', metrics=['accuracy'])\n",
    "\n",
    "num_epochs = 20\n",
    "history = lstm_model.fit(padded, train_rating, epochs=num_epochs, steps_per_epoch=1000,validation_data=(testing_padded, test_rating))"
   ]
  },
  {
   "cell_type": "code",
   "execution_count": null,
   "metadata": {},
   "outputs": [],
   "source": []
  }
 ],
 "metadata": {
  "interpreter": {
   "hash": "949777d72b0d2535278d3dc13498b2535136f6dfe0678499012e853ee9abcab1"
  },
  "kernelspec": {
   "display_name": "Python 3.8.6 64-bit",
   "language": "python",
   "name": "python3"
  },
  "language_info": {
   "codemirror_mode": {
    "name": "ipython",
    "version": 3
   },
   "file_extension": ".py",
   "mimetype": "text/x-python",
   "name": "python",
   "nbconvert_exporter": "python",
   "pygments_lexer": "ipython3",
   "version": "3.8.6"
  },
  "orig_nbformat": 4
 },
 "nbformat": 4,
 "nbformat_minor": 2
}
